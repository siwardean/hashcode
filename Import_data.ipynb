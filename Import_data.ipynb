{
 "cells": [
  {
   "cell_type": "code",
   "execution_count": 5,
   "metadata": {},
   "outputs": [],
   "source": [
    "input_file = open(\"./data/a_example.txt.txt\",\"r\") \n"
   ]
  },
  {
   "cell_type": "code",
   "execution_count": 40,
   "metadata": {},
   "outputs": [],
   "source": [
    "class Library():\n",
    "    def __init__(self, id, data, books):\n",
    "        self.id = id\n",
    "        self.nb_book = int(data[0])\n",
    "        self.nb_day = int(data[1])\n",
    "        self.nb_book_by_day = int(data[2])\n",
    "        self.books = [int(book) for book in books] \n",
    "        \n",
    "class Environement():\n",
    "    def __init__(self, data):\n",
    "        self.nb_book = int(data[0])\n",
    "        self.nb_lib = int(data[1])\n",
    "        self.nb_day_scan = int(data[2])"
   ]
  },
  {
   "cell_type": "code",
   "execution_count": 37,
   "metadata": {},
   "outputs": [],
   "source": [
    "def load(input_path):\n",
    "    input_file = open(input_path,\"r\") \n",
    "    lines = input_file.read().split(\"\\n\")\n",
    "    lines = [line.split(\" \") for line in lines if line != \"\"]\n",
    "    \n",
    "    env = Environement(lines[0])\n",
    "    i = 2\n",
    "    libraries = []\n",
    "    while (i< len(lines)):\n",
    "        data = lines[i] \n",
    "        print(\"---\")\n",
    "        i+=1\n",
    "        books = lines[i]\n",
    "        i+=1\n",
    "        _id = int((i-1)/2)\n",
    "        libraries.append(Library(_id,data, books))\n",
    "    return env, libraries"
   ]
  },
  {
   "cell_type": "code",
   "execution_count": 39,
   "metadata": {},
   "outputs": [
    {
     "name": "stdout",
     "output_type": "stream",
     "text": [
      "[['6', '2', '7'], ['1', '2', '3', '6', '5', '4'], ['5', '2', '2'], ['0', '1', '2', '3', '4'], ['4', '3', '1'], ['0', '2', '3', '5']]\n",
      "---\n",
      "1\n",
      "['0', '1', '2', '3', '4']\n",
      "---\n",
      "2\n",
      "['0', '2', '3', '5']\n"
     ]
    }
   ],
   "source": [
    "env, libraries = load(\"./data/a_example.txt\")"
   ]
  },
  {
   "cell_type": "code",
   "execution_count": 16,
   "metadata": {},
   "outputs": [],
   "source": [
    "\n",
    "        \n",
    "\n",
    "        "
   ]
  },
  {
   "cell_type": "code",
   "execution_count": null,
   "metadata": {},
   "outputs": [],
   "source": []
  }
 ],
 "metadata": {
  "kernelspec": {
   "display_name": "Python 3",
   "language": "python",
   "name": "python3"
  },
  "language_info": {
   "codemirror_mode": {
    "name": "ipython",
    "version": 3
   },
   "file_extension": ".py",
   "mimetype": "text/x-python",
   "name": "python",
   "nbconvert_exporter": "python",
   "pygments_lexer": "ipython3",
   "version": "3.7.1"
  }
 },
 "nbformat": 4,
 "nbformat_minor": 4
}
