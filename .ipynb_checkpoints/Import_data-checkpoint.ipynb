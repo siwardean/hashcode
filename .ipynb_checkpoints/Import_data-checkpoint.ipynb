{
 "cells": [
  {
   "cell_type": "code",
   "execution_count": 92,
   "metadata": {},
   "outputs": [],
   "source": [
    "class Library():\n",
    "    def __init__(self, id, data, books, book_values):\n",
    "        self.id = id\n",
    "        self.nb_book = int(data[0])\n",
    "        self.nb_day = int(data[1])\n",
    "        self.nb_book_by_day = int(data[2])\n",
    "        self.books = [Book(int(book),book_values) for book in books]\n",
    "        \n",
    "    def show_books(self):\n",
    "        print()\n",
    "        for book in self.books:\n",
    "            print(book)\n",
    "            \n",
    "    def __str__(self):\n",
    "        return \"Librairie id : \"+ str(self.id) + \"\\n NB Books : \" + str(self.nb_book) + \"\\n NB Days : \" + str(self.nb_day) + \"\\n NB books/day : \" + str(self.nb_book_by_day)\n",
    "            \n",
    "        \n",
    "        \n",
    "class Environement():\n",
    "    def __init__(self, data):\n",
    "        self.nb_book = int(data[0])\n",
    "        self.nb_lib = int(data[1])\n",
    "        self.nb_day_scan = int(data[2])\n",
    "        \n",
    "    def show_lib(self):\n",
    "        for lib in self.libraries:\n",
    "            print(lib)\n",
    "            lib.show_books()\n",
    "            print(\"---\")\n",
    "            print()\n",
    "        \n",
    "class Book():\n",
    "    def __init__(self, _id, book_values):\n",
    "        self.id = _id\n",
    "        self.value = int(book_values[_id])\n",
    "    def __str__(self):\n",
    "        return \"Book id : \" + str(self.id) +\" value : \" + str(self.value)"
   ]
  },
  {
   "cell_type": "code",
   "execution_count": 93,
   "metadata": {},
   "outputs": [],
   "source": [
    "def load(input_path):\n",
    "    input_file = open(input_path,\"r\") \n",
    "    lines = input_file.read().split(\"\\n\")\n",
    "    lines = [line.split(\" \") for line in lines if line != \"\"]\n",
    "    \n",
    "    env = Environement(lines[0])\n",
    "    i = 2\n",
    "    libraries = []\n",
    "    book_values = [val for val in lines[1]]\n",
    "    while (i< len(lines)):\n",
    "        data = lines[i] \n",
    "        print(\"---\")\n",
    "        i+=1\n",
    "        books = lines[i]\n",
    "        i+=1\n",
    "        _id = int((i-1)/2)\n",
    "        libraries.append(Library(_id,data, books, book_values))\n",
    "        \n",
    "    env.libraries = libraries\n",
    "    return env, libraries"
   ]
  },
  {
   "cell_type": "code",
   "execution_count": 94,
   "metadata": {},
   "outputs": [
    {
     "name": "stdout",
     "output_type": "stream",
     "text": [
      "---\n",
      "---\n"
     ]
    }
   ],
   "source": [
    "env, libraries = load(\"./data/a_example.txt\")"
   ]
  },
  {
   "cell_type": "code",
   "execution_count": 95,
   "metadata": {},
   "outputs": [
    {
     "name": "stdout",
     "output_type": "stream",
     "text": [
      "Librairie id : 1\n",
      " NB Books : 5\n",
      " NB Days : 2\n",
      " NB books/day : 2\n",
      "\n",
      "Book id : 0 value : 1\n",
      "Book id : 1 value : 2\n",
      "Book id : 2 value : 3\n",
      "Book id : 3 value : 6\n",
      "Book id : 4 value : 5\n",
      "---\n",
      "\n",
      "Librairie id : 2\n",
      " NB Books : 4\n",
      " NB Days : 3\n",
      " NB books/day : 1\n",
      "\n",
      "Book id : 0 value : 1\n",
      "Book id : 2 value : 3\n",
      "Book id : 3 value : 6\n",
      "Book id : 5 value : 4\n",
      "---\n",
      "\n"
     ]
    }
   ],
   "source": [
    "env.show_lib()"
   ]
  },
  {
   "cell_type": "code",
   "execution_count": null,
   "metadata": {},
   "outputs": [],
   "source": []
  },
  {
   "cell_type": "code",
   "execution_count": null,
   "metadata": {},
   "outputs": [],
   "source": []
  }
 ],
 "metadata": {
  "kernelspec": {
   "display_name": "Python 3",
   "language": "python",
   "name": "python3"
  },
  "language_info": {
   "codemirror_mode": {
    "name": "ipython",
    "version": 3
   },
   "file_extension": ".py",
   "mimetype": "text/x-python",
   "name": "python",
   "nbconvert_exporter": "python",
   "pygments_lexer": "ipython3",
   "version": "3.7.1"
  }
 },
 "nbformat": 4,
 "nbformat_minor": 4
}
